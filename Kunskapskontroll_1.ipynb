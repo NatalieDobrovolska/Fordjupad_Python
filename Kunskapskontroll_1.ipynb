{
 "cells": [
  {
   "cell_type": "markdown",
   "id": "7583dbe9",
   "metadata": {},
   "source": [
    "## Fråga 1"
   ]
  },
  {
   "cell_type": "markdown",
   "id": "e5babc62",
   "metadata": {},
   "source": [
    "Programmet skapar med hjälp av tkinter ett grafiskt användargränssnitt (GUI) och visar data från en CSV-fil i en tabellform. Detta möjliggör filtrering av innehållet genom att ange ett filter i formatet \"Column Value\" och applicera detta för att endast visa matchande rader. Det finns även möjlighet att exportera de filtrerade resultaten till en ny CSV-fil. Programmet justerar kolumnbreddarna automatiskt baserat på innehållet och visar antalet rader som matchar filtret. Det finns också stöd för att hantera fel vid felaktig filtrering eller export."
   ]
  },
  {
   "cell_type": "markdown",
   "id": "aaf249fc",
   "metadata": {},
   "source": [
    "## Fråga 2"
   ]
  },
  {
   "cell_type": "code",
   "execution_count": 1,
   "id": "dc530ea3",
   "metadata": {},
   "outputs": [],
   "source": [
    "# Kapitel 6 Fråga 1\n",
    "\n",
    "a = 10\n",
    "b = [5, 7, 3]\n",
    "c = {2, 7, 1, 8, 2, 8}\n",
    "\n",
    "def my_fun(x):\n",
    "    return 2 * 2\n",
    "\n",
    "d = my_fun"
   ]
  },
  {
   "cell_type": "code",
   "execution_count": 9,
   "id": "6783a5a0",
   "metadata": {},
   "outputs": [
    {
     "name": "stdout",
     "output_type": "stream",
     "text": [
      "Typ av a - klass: <class 'int'>\n",
      "Typ av b - klass: <class 'list'>\n",
      "Typ av c - klass: <class 'set'>\n",
      "Typ av d - klass: <class 'function'>\n"
     ]
    }
   ],
   "source": [
    "# Vilka klasser tillhör variablerna a, b, c, och d?\n",
    "\n",
    "print(\"Typ av a - klass:\", type(a))\n",
    "print(\"Typ av b - klass:\", type(b))\n",
    "print(\"Typ av c - klass:\", type(c))\n",
    "print(\"Typ av d - klass:\", type(d))\n"
   ]
  },
  {
   "cell_type": "code",
   "execution_count": null,
   "id": "c4b1e415",
   "metadata": {},
   "outputs": [],
   "source": [
    "# Kapitel 6 Fråga 2"
   ]
  },
  {
   "cell_type": "code",
   "execution_count": null,
   "id": "19859741",
   "metadata": {},
   "outputs": [],
   "source": [
    "# a) Kolla om variabeln my_variable är en instans av tuple-klassen \n",
    "   # genom att använda isinstance()-funktionen."
   ]
  },
  {
   "cell_type": "code",
   "execution_count": 10,
   "id": "72b3a184",
   "metadata": {},
   "outputs": [
    {
     "name": "stdout",
     "output_type": "stream",
     "text": [
      "Är my_variable en instans av tuple? True\n"
     ]
    }
   ],
   "source": [
    "my_variable = (1, 1, 2, 3, 5)\n",
    "\n",
    "is_tuple = isinstance(my_variable, tuple)\n",
    "\n",
    "print(f\"Är my_variable en instans av tuple-klassen? {is_tuple}\")"
   ]
  },
  {
   "cell_type": "code",
   "execution_count": null,
   "id": "48c601d9",
   "metadata": {},
   "outputs": [],
   "source": [
    "# b) Kolla om variabeln my_variable är en instans av list-klassen\n",
    "   # genom att använda isinstance()-funktionen."
   ]
  },
  {
   "cell_type": "code",
   "execution_count": 11,
   "id": "72f7d1c8",
   "metadata": {},
   "outputs": [
    {
     "name": "stdout",
     "output_type": "stream",
     "text": [
      "Är my_variable en instans av list-klassen? False\n"
     ]
    }
   ],
   "source": [
    "is_list = isinstance(my_variable, list)\n",
    "\n",
    "print(f\"Är my_variable en instans av list-klassen? {is_list}\")"
   ]
  },
  {
   "cell_type": "code",
   "execution_count": null,
   "id": "0fe2dc13",
   "metadata": {},
   "outputs": [],
   "source": [
    "# Kapitel 6 Fråga 3"
   ]
  },
  {
   "cell_type": "code",
   "execution_count": 12,
   "id": "5ba3a209",
   "metadata": {},
   "outputs": [
    {
     "name": "stdout",
     "output_type": "stream",
     "text": [
      "\n",
      "    A class representing fruit products in a grocery store.\n",
      "    \n",
      "Price: 52 kronor\n",
      "Quantity: 1 kg\n",
      "<class '__main__.FruitProduct'>\n",
      "True\n"
     ]
    }
   ],
   "source": [
    "# a) och b)\n",
    "\n",
    "class FruitProduct:\n",
    "    \"\"\"\n",
    "    A class representing fruit products in a grocery store.\n",
    "    \"\"\"\n",
    "    \n",
    "    def __init__(self, price, quantity):\n",
    "        self.price = price\n",
    "        self.quantity = quantity\n",
    "# c)\n",
    "\n",
    "swedish_apples = FruitProduct(52, 1)\n",
    "\n",
    "# d)\n",
    "\n",
    "print(FruitProduct.__doc__)\n",
    "\n",
    "# e)\n",
    "\n",
    "print(f\"Price: {swedish_apples.price} kronor\")\n",
    "print(f\"Quantity: {swedish_apples.quantity} kg\")\n",
    "\n",
    "# f)\n",
    "\n",
    "print(type(swedish_apples))\n",
    "\n",
    "# g)\n",
    "\n",
    "print(isinstance(swedish_apples, FruitProduct))\n"
   ]
  },
  {
   "cell_type": "code",
   "execution_count": null,
   "id": "7b83b1a9",
   "metadata": {},
   "outputs": [],
   "source": [
    "# Kapitel 6 Fråga 4"
   ]
  },
  {
   "cell_type": "code",
   "execution_count": 13,
   "id": "ef3197ab",
   "metadata": {},
   "outputs": [
    {
     "name": "stdout",
     "output_type": "stream",
     "text": [
      "Omkretsen av kvadraten: 32\n",
      "Arean av kvadraten: 64\n"
     ]
    }
   ],
   "source": [
    "class Square:\n",
    "    \n",
    "    # Attribute side length\n",
    "    \n",
    "    def __init__(self, side_length):\n",
    "        self.side_length = side_length\n",
    "    \n",
    "    # Perimeter = 4 * side_length\n",
    "\n",
    "    def perimeter(self):\n",
    "        return 4 * self.side_length\n",
    "    \n",
    "    # Area = side_length * side_length (or side_length^2)\n",
    "\n",
    "    def area(self):\n",
    "        return self.side_length ** 2\n",
    "\n",
    "# Instance of Square with side_length = 8\n",
    "my_square = Square(8)\n",
    "\n",
    "# Calculating the square perimeter\n",
    "print(f\"Omkretsen av kvadraten: {my_square.perimeter()}\")\n",
    "\n",
    "# Calculating the squere area\n",
    "print(f\"Arean av kvadraten: {my_square.area()}\")\n"
   ]
  },
  {
   "cell_type": "code",
   "execution_count": null,
   "id": "8e5e701b",
   "metadata": {},
   "outputs": [],
   "source": [
    "# Kapitel 6 Fråga 5"
   ]
  },
  {
   "cell_type": "markdown",
   "id": "d5ad679e",
   "metadata": {},
   "source": [
    "a) \n",
    "\n",
    "Koden definierar en klass DescriptiveStatistics som hanterar en lista med data och beräknar dess summa, antal element och medelvärde. \n",
    "\n",
    "Klassen har metoder för att lägga till data samt för att beräkna och skriva ut ovannämnda statistiska mått. \n",
    "\n",
    "Om data som läggs till inte är en lista, kastas ett undantag. Programmet instansierar klassen, lägger till en lista L, och skriver ut statistiken för listan.\n",
    "\n",
    "b) \n",
    "\n",
    "Om man ändar variabeln L till en tuple får man ett felmeddelande eftersom klassen accepterar endast listor."
   ]
  },
  {
   "cell_type": "code",
   "execution_count": null,
   "id": "582f32be",
   "metadata": {},
   "outputs": [],
   "source": [
    "# Kapitel 6 Fråga 6"
   ]
  },
  {
   "cell_type": "code",
   "execution_count": 16,
   "id": "b06bcde7",
   "metadata": {},
   "outputs": [
    {
     "name": "stdout",
     "output_type": "stream",
     "text": [
      "Kontoinnehavare: Natalie\n",
      "Balans: 1000 kronor\n",
      "500 kronor insatta. Ny balans: 1500 kronor\n",
      "300 kronor uttagna. Ny balans: 1200 kronor\n",
      "Balance too low\n"
     ]
    }
   ],
   "source": [
    "# a)\n",
    "\n",
    "class BankAccount:\n",
    "    def __init__(self, account_holder, balance=0):\n",
    "        self.account_holder = account_holder\n",
    "        self.balance = balance\n",
    "\n",
    "    def deposit(self, amount):\n",
    "        self.balance += amount\n",
    "        print(f\"{amount} kronor insatta. Ny balans: {self.balance} kronor\")\n",
    "\n",
    "    def withdraw(self, amount):\n",
    "        if amount > self.balance:\n",
    "            print(\"Balance too low\")\n",
    "        else:\n",
    "            self.balance -= amount\n",
    "            print(f\"{amount} kronor uttagna. Ny balans: {self.balance} kronor\")\n",
    "\n",
    "\n",
    "# b)\n",
    "\n",
    "# BankAccount med en kontoinnehavare\n",
    "\n",
    "my_account = BankAccount(\"Natalie\", 1000)\n",
    "\n",
    "# Printar ut attributen\n",
    "\n",
    "print(f\"Kontoinnehavare: {my_account.account_holder}\")\n",
    "print(f\"Balans: {my_account.balance} kronor\")\n",
    "\n",
    "# Insättning av pengar\n",
    "\n",
    "my_account.deposit(500)\n",
    "\n",
    "# Uttag av pengar\n",
    "\n",
    "my_account.withdraw(300)\n",
    "\n",
    "# Uttag av mer pengar än vad det finns på kontot\n",
    "\n",
    "my_account.withdraw(1500)\n"
   ]
  },
  {
   "cell_type": "code",
   "execution_count": null,
   "id": "c246ccdb",
   "metadata": {},
   "outputs": [],
   "source": [
    "# Kapitel 6 Fråga 7"
   ]
  },
  {
   "cell_type": "markdown",
   "id": "9075453c",
   "metadata": {},
   "source": [
    "Man kan beskriva en klass som en mall som beskriver hur objekt (eller instanser) av en viss typ ska fungera. En klass är som en mall med hjälp av vilken kan man skapa flera objekt som har samma struktur och funktioner.\n",
    "\n",
    "Instans: När man skapar ett specifikt objekt från en klass, kallas det en instans. Till exempel, om BankAccount är klassen, är my_account en instans av den klassen.\n",
    "    \n",
    "Attribut: Det är egenskaper eller data som varje instans har. I fallet med BankAccount är attributen account_holder (namnet på kontoinnehavaren) och balance (hur mycket pengar som finns på kontot).\n",
    "    \n",
    "Metoder: Det är funktioner som hör till klassen och som kan användas för att utföra åtgärder med instanserna. För BankAccount är deposit() och withdraw() metoder som används för att sätta in och ta ut pengar från kontot."
   ]
  },
  {
   "cell_type": "code",
   "execution_count": null,
   "id": "3dd47bbb",
   "metadata": {},
   "outputs": [],
   "source": [
    "# Kapitel 7"
   ]
  },
  {
   "cell_type": "markdown",
   "id": "835bee33",
   "metadata": {},
   "source": [
    "### Fråga 1\n",
    "\n",
    "##### a) Om du arbetar i ett projekt som har ett internt dokument med style guidelines där vissa saker går emot vad PEP 8 säger, vad gör du då?\n",
    "\n",
    "Man bör följa projektets interna riktlinjer. PEP 8 är en rekommendation, men om det finns interna riktlinjer i projektet är det viktigt att man följer dessa för att bibehålla och följa enhetlig kodstil inom projektet.\n",
    "\n",
    "##### b) På vilket språk skall kommentarer generellt sett skrivas?\n",
    "\n",
    "Kommentarer bör skrivas på engelska eftersom det är det mest internationellt använda språket inom programmering.\n",
    "\n",
    "##### c) Hur skall funktioner och variabler namnges?\n",
    "\n",
    "Funktioner och variabler ska använda \"snake_case\"-notation vilket innebär att ord separeras med understreck (_). Sedan ska alla bokstäver ska vara små (exempel: my_function, my_variable).\n",
    "\n",
    "##### d) Hur skall klasser namnges?\n",
    "\n",
    "Klasser ska namnges med \"CamelCase\"-notation, dvs att varje ord börjar med en versal och inga understreck används (exempel: MyClass).\n",
    "\n",
    "##### e) Om du i ditt skript importerar exempelvis en modul, var i skriptet skall koden som utför importen placeras?\n",
    "\n",
    "Alla import-satser ska placeras högst upp i skriptet, precis efter eventuella kommentarer och docstrings, men före något annat i koden.\n",
    "\n",
    "##### f) Enligt PEP 8, skall man använda enkla (’my_string’) eller dubbla (\"my_string\") citationstecken för att skapa en sträng?\n",
    "\n",
    "PEP 8 tillåter både enkla och dubbla citationstecken, men man bör vara konsekvent inom t ex samma projekt och följa den stil som projektet använder.\n",
    "\n",
    "##### g) Vilket av Alternativ 1 och Alternativ 2 nedan är det korrekta sättet att skriva koden på, enligt PEP 8?\n",
    "\n",
    "Alternativ 1 är korrekt, då det används mellanslag för bättre läsbarhet.\n",
    "\n",
    "\n",
    "### Fråga 2.\n",
    "\n",
    "##### a) \"Explicit is better than implicit.\" Vad tror du det innebär? Kan du exemplifiera?\n",
    "\n",
    "Detta innebär att tydlig och explicit kod ska prioriteras istället för en kod som döljer detaljer eller är svår att förstå. \n",
    "T ex istället för att anta att en variabel har ett specifikt värde eller typ bör man kontrollera det eller namnge variabeln tydligt för att undvika förvirring.\n",
    "\n",
    "##### b) \"Simple is better than complex.\" Vad tror du det innebär? Kan du exemplifiera?\n",
    "\n",
    "Det betyder att man ska sträva efter en enkel kod, eftersom den är lättare att förstå, underhålla och felsöka. T ex om en enkel lösning funkar, ska man inte använda komplicerade.\n",
    "\n",
    "### Fråga 3.\n",
    "\n",
    "##### Din kollega säger: \"Det känns krångligt att vi alla skall behöva följa konventioner och standarder. Är det inte lättare om alla bara skriver kod på det sättet som de vill, så länge som den fungerar?\"\n",
    "\n",
    "Det är viktigt att följa konventioner och standarder som PEP 8 eftersom det gör koden mer läsbar och underhållbar för alla. Om alla skriver kod på olika sätt blir det svårare att förstå, jobba och ändra andras kod."
   ]
  },
  {
   "cell_type": "code",
   "execution_count": null,
   "id": "83a1ef4e",
   "metadata": {},
   "outputs": [],
   "source": [
    "# Kapitel 8"
   ]
  },
  {
   "cell_type": "markdown",
   "id": "04ce65ec",
   "metadata": {},
   "source": [
    "##### 1. Din kollega Johanna frågar dig:\n",
    "\n",
    "##### a) Vad är syntax errors?\n",
    "\n",
    "Syntaxfel uppstår när programkoden inte följer de grammatiska reglerna för det aktuella programmeringsspråket. Dessa fel identifieras oftast av kompilatorn eller tolken innan programmet körs och måste korrigeras för att koden ska kunna exekveras.\n",
    "\n",
    "##### b) Varför skulle man vilja fånga exceptions i ett program och inte bara låta programmet stanna vid fel?\n",
    "\n",
    "Genom att fånga exceptions kan programmet hantera fel på ett kontrollerat sätt utan att krascha. Detta gör att användaren kan informeras om problemet på ett vänligare sätt och att programmet kan återhämta sig eller avslutas korrekt.\n",
    "\n",
    "##### c) Varför skulle man vilja lyfta exceptions i ett program?\n",
    "\n",
    "Att lyfta exceptions gör att det kan hanteras på en högre nivå i programmet vilket är användbart om den aktuella delen av koden inte vet hur man bäst hanterar felet eller om man vill logga eller spåra felet för vidare hantering.\n",
    "\n",
    "##### 2a) Förklara vad nedanstående kod gör:\n",
    "\n",
    "Denna kod är en funktion som försöker konvertera en sträng till ett heltal (integer). Om strängen kan konverteras returneras heltalet, annars fångas ett ValueError-undantag och ett felmeddelande returneras.\n",
    "\n",
    "För \"314\" lyckas konverteringen, så heltalet 314 returneras.\n",
    "För \"abc\" misslyckas konverteringen, så felmeddelandet \"Invalid input, cannot convert to integer.\" returneras.\n",
    "\n",
    "##### 2b) Generellt sett, vad är poängen med att använda else?\n",
    "\n",
    "Poängen med att använda else är att koden i else-biten körs bara om inget fel har inträffat i try-delen. Det gör det enklare att separera normal kod från felhantering och säkerställa att viss kod körs när det inte finns några fel.\n"
   ]
  },
  {
   "cell_type": "markdown",
   "id": "a01778fa",
   "metadata": {},
   "source": [
    "##### 3. Skriv ett kodexempel där du fångar en exception."
   ]
  },
  {
   "cell_type": "code",
   "execution_count": 17,
   "id": "b7debeab",
   "metadata": {},
   "outputs": [
    {
     "name": "stdout",
     "output_type": "stream",
     "text": [
      "You can't divide by zero!\n"
     ]
    }
   ],
   "source": [
    "try:\n",
    "    result = 10 / 0\n",
    "except ZeroDivisionError:\n",
    "    print(\"You can't divide by zero!\")"
   ]
  },
  {
   "cell_type": "markdown",
   "id": "ecb9649d",
   "metadata": {},
   "source": [
    "##### 4. Skapa en funktion add_two_small_numbers som adderar två tal. Om något av talen är större än 100, skall du lyfta en exception och skriva ut meddelandet \"both numbers must be smaller than or equal to 100\"."
   ]
  },
  {
   "cell_type": "code",
   "execution_count": 18,
   "id": "050268fc",
   "metadata": {},
   "outputs": [
    {
     "name": "stdout",
     "output_type": "stream",
     "text": [
      "80\n",
      "both numbers must be smaller than or equal to 100\n"
     ]
    }
   ],
   "source": [
    "def add_two_small_numbers(a, b):\n",
    "    if a > 100 or b > 100:\n",
    "        raise ValueError(\"both numbers must be smaller than or equal to 100\")\n",
    "    return a + b\n",
    "\n",
    "try:\n",
    "    print(add_two_small_numbers(50, 30))\n",
    "    print(add_two_small_numbers(150, 30))\n",
    "except ValueError as e:\n",
    "    print(e)"
   ]
  },
  {
   "cell_type": "markdown",
   "id": "6c404041",
   "metadata": {},
   "source": [
    "##### 5. Förklara vad din kollega har gjort i skriptet.\n",
    "\n",
    "Kollegan testar hur olika typer av exceptions hanteras i Python.\n",
    "\n",
    "I det första testet adderas en siffra med en sträng, vilket genererer ett TypeError. Det fångar exception, skriver ut vilken typ av exception det är och meddelandet kopplat till den.\n",
    "\n",
    "I det andra testet försöker man dela med 0 vilket resulterar ett ZeroDivisionError. Man skriver ut typ och meddelandet även för detta undantag.\n",
    "\n",
    "I tredje testet som är en funktion add_two_numbers(a, b) fångas både TypeError (om argumenten inte är ett nummer) och ZeroDivisionError (om man försöker dela med 0). Testerna visar hur funktionen hanterar dessa undantag och genererar felmeddelanden."
   ]
  },
  {
   "cell_type": "code",
   "execution_count": null,
   "id": "3b875506",
   "metadata": {},
   "outputs": [],
   "source": [
    "# Kapitel 9"
   ]
  },
  {
   "cell_type": "markdown",
   "id": "d77fa4fe",
   "metadata": {},
   "source": [
    "#####  1. Varför är det generellt sett en god idé att bygga upp tester för sin kod?\n",
    "\n",
    "Det hjälper till att upptäcka fel tidigt innan de når produktion. Tester säkerställer att koden fungerar som förväntat och gör det enklare att underhålla och uppdatera koden utan att oavsiktligt addera nya buggar. Det bidrar även till att skapa pålitlig och stabil kod över tid.\n",
    "\n",
    "##### 2. Implementera tester med doctest för funktionen multiply_two_numbers."
   ]
  },
  {
   "cell_type": "code",
   "execution_count": 20,
   "id": "ead82461",
   "metadata": {},
   "outputs": [],
   "source": [
    "def multiply_two_numbers(a, b):\n",
    "    \"\"\"\n",
    "    Return the product of a and b.\n",
    "\n",
    "    >>> multiply_two_numbers(2, 3)\n",
    "    6\n",
    "    >>> multiply_two_numbers(-1, 5)\n",
    "    -5\n",
    "    >>> multiply_two_numbers(0, 10)\n",
    "    0\n",
    "    >>> multiply_two_numbers(4, -4)\n",
    "    -16\n",
    "    \"\"\"\n",
    "    return a * b\n",
    "\n",
    "if __name__ == \"__main__\":\n",
    "    import doctest\n",
    "    doctest.testmod()"
   ]
  },
  {
   "cell_type": "markdown",
   "id": "003799a3",
   "metadata": {},
   "source": [
    "##### 3. Skriv en kod eller använd tidigare skriven kod och implementera några tester."
   ]
  },
  {
   "cell_type": "code",
   "execution_count": 21,
   "id": "0f6bb3db",
   "metadata": {},
   "outputs": [
    {
     "name": "stdout",
     "output_type": "stream",
     "text": [
      "All tests passed.\n"
     ]
    }
   ],
   "source": [
    "def multiply_two_numbers(a, b):\n",
    "    return a * b\n",
    "\n",
    "def test_multiply_two_numbers():\n",
    "    assert multiply_two_numbers(2, 3) == 6\n",
    "    assert multiply_two_numbers(-1, 5) == -5\n",
    "    assert multiply_two_numbers(0, 10) == 0\n",
    "    assert multiply_two_numbers(4, -4) == -16\n",
    "\n",
    "if __name__ == \"__main__\":\n",
    "    test_multiply_two_numbers()\n",
    "    print(\"All tests passed.\")"
   ]
  },
  {
   "cell_type": "code",
   "execution_count": null,
   "id": "b748ee5b",
   "metadata": {},
   "outputs": [],
   "source": [
    "# Kapitel 10"
   ]
  },
  {
   "cell_type": "markdown",
   "id": "28465d60",
   "metadata": {},
   "source": [
    "##### 1. Vad är en modul och hur kan en sådan användas i andra filer?\n",
    "\n",
    "En modul är en fil som innehåller Python-kod (t.ex. funktioner, klasser eller variabler) som kan importeras och användas i andra Python-program eller filer. \n",
    "Moduler hjälper till att organisera och återanvända kod. Man kan importera en modul till en annan fil och då kan modulens funktioner och klasser användas där precis som om de definierades i den aktuella filen."
   ]
  },
  {
   "cell_type": "markdown",
   "id": "b53cdf26",
   "metadata": {},
   "source": [
    "##### 2a) Importera modulen math från standardbiblioteket utan att använda aliasing."
   ]
  },
  {
   "cell_type": "code",
   "execution_count": 23,
   "id": "f37f94b1",
   "metadata": {},
   "outputs": [],
   "source": [
    "import math"
   ]
  },
  {
   "cell_type": "markdown",
   "id": "9bf4bed6",
   "metadata": {},
   "source": [
    "##### 2b) Skriv help(math.ceil). Förstår du vad ceil()-funktionen gör?\n",
    "\n",
    "math.ceil-funktionen returnerar det minsta heltalet som är större än eller lika med x. Det betyder att den \"avrundar uppåt\" till närmaste heltal."
   ]
  },
  {
   "cell_type": "code",
   "execution_count": 24,
   "id": "966e72ab",
   "metadata": {},
   "outputs": [
    {
     "name": "stdout",
     "output_type": "stream",
     "text": [
      "Help on built-in function ceil in module math:\n",
      "\n",
      "ceil(x, /)\n",
      "    Return the ceiling of x as an Integral.\n",
      "    \n",
      "    This is the smallest integer >= x.\n",
      "\n"
     ]
    }
   ],
   "source": [
    "help(math.ceil)"
   ]
  },
  {
   "cell_type": "markdown",
   "id": "0f2959eb",
   "metadata": {},
   "source": [
    "##### 2c) Skriv math.ceil(10.2). Vad får du för svar och varför?"
   ]
  },
  {
   "cell_type": "code",
   "execution_count": 25,
   "id": "6147b5a2",
   "metadata": {},
   "outputs": [
    {
     "data": {
      "text/plain": [
       "11"
      ]
     },
     "execution_count": 25,
     "metadata": {},
     "output_type": "execute_result"
    }
   ],
   "source": [
    "math.ceil(10.2)"
   ]
  },
  {
   "cell_type": "markdown",
   "id": "816c88d0",
   "metadata": {},
   "source": [
    "Jag får svaret 11 eftersom math.ceil() alltid avrundar uppåt till närmaste heltal."
   ]
  },
  {
   "cell_type": "markdown",
   "id": "b0e35fe1",
   "metadata": {},
   "source": [
    "##### 2d) Skriv math.ceil(9.8). Vad får du för svar och varför?"
   ]
  },
  {
   "cell_type": "code",
   "execution_count": 26,
   "id": "a534eca5",
   "metadata": {},
   "outputs": [
    {
     "data": {
      "text/plain": [
       "10"
      ]
     },
     "execution_count": 26,
     "metadata": {},
     "output_type": "execute_result"
    }
   ],
   "source": [
    "math.ceil(9.8)"
   ]
  },
  {
   "cell_type": "markdown",
   "id": "e684f3b4",
   "metadata": {},
   "source": [
    "Här avrundas det på samma sätt som oven, uppåt till närmaste heltal, till 10."
   ]
  },
  {
   "cell_type": "markdown",
   "id": "d60edc5d",
   "metadata": {},
   "source": [
    "##### 3. 3. Bygg en egen modul som till exempel innehåller två funktioner. Importera därefter denna modul i ett annat skript och prova att använda de två funktionerna."
   ]
  },
  {
   "cell_type": "code",
   "execution_count": 58,
   "id": "141a64ec",
   "metadata": {},
   "outputs": [],
   "source": [
    "# my_module.py\n",
    "\n",
    "def multiply(a, b):\n",
    "    \"\"\"Returnerar produkten av två tal.\"\"\"\n",
    "    return a * b\n",
    "\n",
    "def greet(name):\n",
    "    \"\"\"Returnerar en hälsning.\"\"\"\n",
    "    return f\"Hej, {name}!\"\n"
   ]
  },
  {
   "cell_type": "code",
   "execution_count": 60,
   "id": "c3123104",
   "metadata": {},
   "outputs": [
    {
     "name": "stdout",
     "output_type": "stream",
     "text": [
      "Produkten av 6 och 7 är: 42\n",
      "Hej, Anna!\n"
     ]
    }
   ],
   "source": [
    "import sys\n",
    "sys.path.append('.')\n",
    "\n",
    "import my_module\n",
    "\n",
    "product = my_module.multiply(6, 7)\n",
    "print(f\"Produkten av 6 och 7 är: {product}\")\n",
    "\n",
    "greeting = my_module.greet(\"Anna\")\n",
    "print(greeting)\n"
   ]
  },
  {
   "cell_type": "code",
   "execution_count": null,
   "id": "aefe2acc",
   "metadata": {},
   "outputs": [],
   "source": [
    "# Kapitel 11"
   ]
  },
  {
   "cell_type": "markdown",
   "id": "339e8849",
   "metadata": {},
   "source": [
    "##### 1. Varför kan loggfiler med information vara viktiga för exempelvis företag och organisationer?\n",
    "\n",
    "Loggfiler är viktiga för företag och organisationer eftersom de ger detaljerad information om systemets eller programmets aktiviteter. De kan användas för bl a felsökning av problem om något går fel, visa systemets funktionalitet, spara historik över händelser för analys. "
   ]
  },
  {
   "cell_type": "markdown",
   "id": "1d347429",
   "metadata": {},
   "source": [
    "##### 2. Vad menas med att det finns olika nivåer för logg-meddelanden?\n",
    "\n",
    "Loggdata kategoriseras efter allvarlighetsgrad eller typ av information. Några av de nivåerna är t ex Info, Warning, Error."
   ]
  },
  {
   "cell_type": "markdown",
   "id": "1b065703",
   "metadata": {},
   "source": [
    "##### 3. Skapa ett valfritt program där du också använder dig av logging-modulen."
   ]
  },
  {
   "cell_type": "code",
   "execution_count": 27,
   "id": "35162df2",
   "metadata": {},
   "outputs": [
    {
     "name": "stderr",
     "output_type": "stream",
     "text": [
      "INFO:root:Lägger till 3 och 5\n",
      "INFO:root:Resultat: 8\n"
     ]
    }
   ],
   "source": [
    "import logging\n",
    "\n",
    "logging.basicConfig(level=logging.INFO)\n",
    "\n",
    "def add(a, b):\n",
    "    logging.info(f\"Lägger till {a} och {b}\")\n",
    "    return a + b\n",
    "\n",
    "def main():\n",
    "    result = add(3, 5)\n",
    "    logging.info(f\"Resultat: {result}\")\n",
    "\n",
    "if __name__ == \"__main__\":\n",
    "    main()"
   ]
  }
 ],
 "metadata": {
  "kernelspec": {
   "display_name": "Python 3 (ipykernel)",
   "language": "python",
   "name": "python3"
  },
  "language_info": {
   "codemirror_mode": {
    "name": "ipython",
    "version": 3
   },
   "file_extension": ".py",
   "mimetype": "text/x-python",
   "name": "python",
   "nbconvert_exporter": "python",
   "pygments_lexer": "ipython3",
   "version": "3.11.7"
  }
 },
 "nbformat": 4,
 "nbformat_minor": 5
}
